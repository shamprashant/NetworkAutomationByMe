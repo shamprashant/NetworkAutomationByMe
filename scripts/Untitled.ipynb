{
 "cells": [
  {
   "cell_type": "code",
   "execution_count": 31,
   "metadata": {},
   "outputs": [
    {
     "name": "stdout",
     "output_type": "stream",
     "text": [
      "Your generated password is:  CBBZUYbE$xr\n",
      "Your generated password is:  p7+U7@TF0[\n",
      "Password is good:  p7+U7@TF0[\n",
      "Attempts taken:  2\n"
     ]
    }
   ],
   "source": [
    "import random\n",
    "\n",
    "def password_check(password):\n",
    "    \n",
    "    if len(password) < 8:\n",
    "        return False\n",
    "    \n",
    "    if not any(char.isdigit() for char in password):\n",
    "        return False\n",
    "    if not any(char.isupper() for char in password):\n",
    "        return False\n",
    "    if not any(char.islower() for char in password):\n",
    "        return False\n",
    "    \n",
    "    return True\n",
    "    \n",
    "def random_password():\n",
    "    password = ''\n",
    "    for i in range(random.randint(7,11)):\n",
    "        password += chr(random.randint(33,126))\n",
    "    return password\n",
    "\n",
    "if __name__ == '__main__':\n",
    "    \n",
    "    attempts = 0\n",
    "    \n",
    "    while(True):\n",
    "        password = random_password()\n",
    "        print('Your generated password is: ',password)\n",
    "        attempts += 1\n",
    "    \n",
    "        if password_check(password):\n",
    "            print('Password is good: ', password)\n",
    "            print('Attempts taken: ', attempts)\n",
    "            break\n"
   ]
  },
  {
   "cell_type": "code",
   "execution_count": 40,
   "metadata": {},
   "outputs": [
    {
     "data": {
      "text/plain": [
       "'ߐ'"
      ]
     },
     "execution_count": 40,
     "metadata": {},
     "output_type": "execute_result"
    }
   ],
   "source": [
    "chr(2000)"
   ]
  },
  {
   "cell_type": "code",
   "execution_count": null,
   "metadata": {},
   "outputs": [],
   "source": []
  },
  {
   "cell_type": "code",
   "execution_count": null,
   "metadata": {},
   "outputs": [],
   "source": []
  },
  {
   "cell_type": "code",
   "execution_count": null,
   "metadata": {},
   "outputs": [],
   "source": []
  }
 ],
 "metadata": {
  "kernelspec": {
   "display_name": "Python 3",
   "language": "python",
   "name": "python3"
  },
  "language_info": {
   "codemirror_mode": {
    "name": "ipython",
    "version": 3
   },
   "file_extension": ".py",
   "mimetype": "text/x-python",
   "name": "python",
   "nbconvert_exporter": "python",
   "pygments_lexer": "ipython3",
   "version": "3.7.2"
  }
 },
 "nbformat": 4,
 "nbformat_minor": 2
}
